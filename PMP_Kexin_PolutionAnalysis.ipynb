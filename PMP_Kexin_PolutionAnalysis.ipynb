{
 "cells": [
  {
   "cell_type": "code",
   "execution_count": 284,
   "metadata": {},
   "outputs": [],
   "source": [
    "import pandas as pd\n",
    "import dateutil\n",
    "import numpy as np\n",
    "import matplotlib\n",
    "import matplotlib.pyplot as plt \n",
    "import matplotlib.ticker as plticker"
   ]
  },
  {
   "cell_type": "markdown",
   "metadata": {},
   "source": [
    "## 1. import data and data cleaning (refined)"
   ]
  },
  {
   "cell_type": "code",
   "execution_count": 12,
   "metadata": {},
   "outputs": [],
   "source": [
    "#choose data source\n",
    "filenames = [\"2019full.csv\", \"2018full.csv\"]\n",
    "\n",
    "#import data to pandas data frame, with datetime parsing (using Paris local time)\n",
    "dfs = []\n",
    "for filename in filenames:\n",
    "    df = pd.read_csv(filename,sep=';', parse_dates=[6], date_parser = dateutil.parser.parse)\n",
    "    dfs.append(df)\n",
    "    \n",
    "df_all = pd.concat(dfs)"
   ]
  },
  {
   "cell_type": "code",
   "execution_count": 17,
   "metadata": {
    "scrolled": true
   },
   "outputs": [
    {
     "data": {
      "text/html": [
       "<div>\n",
       "<style scoped>\n",
       "    .dataframe tbody tr th:only-of-type {\n",
       "        vertical-align: middle;\n",
       "    }\n",
       "\n",
       "    .dataframe tbody tr th {\n",
       "        vertical-align: top;\n",
       "    }\n",
       "\n",
       "    .dataframe thead th {\n",
       "        text-align: right;\n",
       "    }\n",
       "</style>\n",
       "<table border=\"1\" class=\"dataframe\">\n",
       "  <thead>\n",
       "    <tr style=\"text-align: right;\">\n",
       "      <th></th>\n",
       "      <th>iu_ac</th>\n",
       "      <th>libelle</th>\n",
       "      <th>iu_nd_amont</th>\n",
       "      <th>libelle_nd_amont</th>\n",
       "      <th>iu_nd_aval</th>\n",
       "      <th>libelle_nd_aval</th>\n",
       "      <th>t_1h</th>\n",
       "      <th>q</th>\n",
       "      <th>k</th>\n",
       "      <th>etat_trafic</th>\n",
       "      <th>dessin</th>\n",
       "    </tr>\n",
       "  </thead>\n",
       "  <tbody>\n",
       "    <tr>\n",
       "      <td>0</td>\n",
       "      <td>4618</td>\n",
       "      <td>Cours Albert 1er_VGP</td>\n",
       "      <td>163</td>\n",
       "      <td>Souterrain_Cours_la_Reine</td>\n",
       "      <td>2467</td>\n",
       "      <td>Cours_Albert_Ier-VGP</td>\n",
       "      <td>2019-06-12 03:00:00+02:00</td>\n",
       "      <td>695.0</td>\n",
       "      <td>2.06056</td>\n",
       "      <td>1</td>\n",
       "      <td>\"&lt;PLINE&gt;&lt;PT X=\"\"598038\"\" Y=\"\"129374\"\"/&gt;&lt;PT X=\"...</td>\n",
       "    </tr>\n",
       "    <tr>\n",
       "      <td>1</td>\n",
       "      <td>1307</td>\n",
       "      <td>Bd_Richard_Lenoir</td>\n",
       "      <td>717</td>\n",
       "      <td>Republique-Richard_Lenoir-Timbau</td>\n",
       "      <td>716</td>\n",
       "      <td>Republique-Jules_Ferry</td>\n",
       "      <td>2019-01-30 04:00:00+01:00</td>\n",
       "      <td>140.0</td>\n",
       "      <td>1.38111</td>\n",
       "      <td>1</td>\n",
       "      <td>\"&lt;PLINE EPAISSEUR=\"\"6\"\"&gt;&lt;PT X=\"\"602421\"\" Y=\"\"1...</td>\n",
       "    </tr>\n",
       "    <tr>\n",
       "      <td>2</td>\n",
       "      <td>4618</td>\n",
       "      <td>Cours Albert 1er_VGP</td>\n",
       "      <td>163</td>\n",
       "      <td>Souterrain_Cours_la_Reine</td>\n",
       "      <td>2467</td>\n",
       "      <td>Cours_Albert_Ier-VGP</td>\n",
       "      <td>2019-06-12 11:00:00+02:00</td>\n",
       "      <td>1141.0</td>\n",
       "      <td>3.64889</td>\n",
       "      <td>1</td>\n",
       "      <td>\"&lt;PLINE&gt;&lt;PT X=\"\"598038\"\" Y=\"\"129374\"\"/&gt;&lt;PT X=\"...</td>\n",
       "    </tr>\n",
       "    <tr>\n",
       "      <td>3</td>\n",
       "      <td>1307</td>\n",
       "      <td>Bd_Richard_Lenoir</td>\n",
       "      <td>717</td>\n",
       "      <td>Republique-Richard_Lenoir-Timbau</td>\n",
       "      <td>716</td>\n",
       "      <td>Republique-Jules_Ferry</td>\n",
       "      <td>2019-01-30 16:00:00+01:00</td>\n",
       "      <td>697.0</td>\n",
       "      <td>5.97611</td>\n",
       "      <td>1</td>\n",
       "      <td>\"&lt;PLINE EPAISSEUR=\"\"6\"\"&gt;&lt;PT X=\"\"602421\"\" Y=\"\"1...</td>\n",
       "    </tr>\n",
       "    <tr>\n",
       "      <td>4</td>\n",
       "      <td>4618</td>\n",
       "      <td>Cours Albert 1er_VGP</td>\n",
       "      <td>163</td>\n",
       "      <td>Souterrain_Cours_la_Reine</td>\n",
       "      <td>2467</td>\n",
       "      <td>Cours_Albert_Ier-VGP</td>\n",
       "      <td>2019-06-12 19:00:00+02:00</td>\n",
       "      <td>1068.0</td>\n",
       "      <td>3.26389</td>\n",
       "      <td>1</td>\n",
       "      <td>\"&lt;PLINE&gt;&lt;PT X=\"\"598038\"\" Y=\"\"129374\"\"/&gt;&lt;PT X=\"...</td>\n",
       "    </tr>\n",
       "  </tbody>\n",
       "</table>\n",
       "</div>"
      ],
      "text/plain": [
       "   iu_ac               libelle  iu_nd_amont                  libelle_nd_amont  \\\n",
       "0   4618  Cours Albert 1er_VGP          163         Souterrain_Cours_la_Reine   \n",
       "1   1307     Bd_Richard_Lenoir          717  Republique-Richard_Lenoir-Timbau   \n",
       "2   4618  Cours Albert 1er_VGP          163         Souterrain_Cours_la_Reine   \n",
       "3   1307     Bd_Richard_Lenoir          717  Republique-Richard_Lenoir-Timbau   \n",
       "4   4618  Cours Albert 1er_VGP          163         Souterrain_Cours_la_Reine   \n",
       "\n",
       "   iu_nd_aval         libelle_nd_aval                       t_1h       q  \\\n",
       "0        2467    Cours_Albert_Ier-VGP  2019-06-12 03:00:00+02:00   695.0   \n",
       "1         716  Republique-Jules_Ferry  2019-01-30 04:00:00+01:00   140.0   \n",
       "2        2467    Cours_Albert_Ier-VGP  2019-06-12 11:00:00+02:00  1141.0   \n",
       "3         716  Republique-Jules_Ferry  2019-01-30 16:00:00+01:00   697.0   \n",
       "4        2467    Cours_Albert_Ier-VGP  2019-06-12 19:00:00+02:00  1068.0   \n",
       "\n",
       "         k  etat_trafic                                             dessin  \n",
       "0  2.06056            1  \"<PLINE><PT X=\"\"598038\"\" Y=\"\"129374\"\"/><PT X=\"...  \n",
       "1  1.38111            1  \"<PLINE EPAISSEUR=\"\"6\"\"><PT X=\"\"602421\"\" Y=\"\"1...  \n",
       "2  3.64889            1  \"<PLINE><PT X=\"\"598038\"\" Y=\"\"129374\"\"/><PT X=\"...  \n",
       "3  5.97611            1  \"<PLINE EPAISSEUR=\"\"6\"\"><PT X=\"\"602421\"\" Y=\"\"1...  \n",
       "4  3.26389            1  \"<PLINE><PT X=\"\"598038\"\" Y=\"\"129374\"\"/><PT X=\"...  "
      ]
     },
     "execution_count": 17,
     "metadata": {},
     "output_type": "execute_result"
    }
   ],
   "source": [
    "df_all.head()"
   ]
  },
  {
   "cell_type": "code",
   "execution_count": 15,
   "metadata": {
    "scrolled": true
   },
   "outputs": [
    {
     "name": "stdout",
     "output_type": "stream",
     "text": [
      "Number of rows is: 35633520\n",
      "\n",
      "Number of NaN in each column is:\n",
      "iu_ac                      0\n",
      "libelle                    0\n",
      "iu_nd_amont                0\n",
      "libelle_nd_amont           0\n",
      "iu_nd_aval                 0\n",
      "libelle_nd_aval            0\n",
      "t_1h                       0\n",
      "q                   14727478\n",
      "k                   13595735\n",
      "etat_trafic                0\n",
      "dessin                     0\n",
      "dtype: int64\n",
      "\n",
      "\n",
      "After cleaning, the updated number of rows is: 17461867\n",
      "\n",
      "Now, the updated number of NaN in each column is:\n",
      "iu_ac               0\n",
      "libelle             0\n",
      "iu_nd_amont         0\n",
      "libelle_nd_amont    0\n",
      "iu_nd_aval          0\n",
      "libelle_nd_aval     0\n",
      "t_1h                0\n",
      "q                   0\n",
      "k                   0\n",
      "etat_trafic         0\n",
      "dessin              0\n",
      "dtype: int64\n"
     ]
    }
   ],
   "source": [
    "#NAs\n",
    "\n",
    "print(\"Number of rows is: %d\"%df_all.shape[0])\n",
    "print(\"\\nNumber of NaN in each column is:\")\n",
    "print(df_all.isnull().sum())\n",
    "\n",
    "#delete rows with empty q or k (or date or street if there is missing val)\n",
    "df1 = df_all.dropna(subset=['q','k'], inplace=False)\n",
    "\n",
    "print(\"\\n\\nAfter cleaning, the updated number of rows is: %d\"%df1.shape[0])\n",
    "print(\"\\nNow, the updated number of NaN in each column is:\")\n",
    "print(df1.isnull().sum())"
   ]
  },
  {
   "cell_type": "code",
   "execution_count": 6,
   "metadata": {
    "scrolled": true
   },
   "outputs": [
    {
     "data": {
      "text/plain": [
       "17461859"
      ]
     },
     "execution_count": 6,
     "metadata": {},
     "output_type": "execute_result"
    }
   ],
   "source": [
    "# duplicates\n",
    "duplicateRows = df1[df1.duplicated()] \n",
    "#print(\"Duplicate Rows except first occurrence based on all columns are :\")\n",
    "#print(duplicateRows)\n",
    "\n",
    "# keep the first occurrence of the duplicates\n",
    "df1.drop_duplicates(inplace=True)\n",
    "df1.shape[0]"
   ]
  },
  {
   "cell_type": "code",
   "execution_count": 7,
   "metadata": {},
   "outputs": [],
   "source": [
    "# outliers\n",
    "df1 = df1.drop(df1[(df1.q == 0) & (df1.k <50) & (df1.k != 0)].index) #3054 records deleted\n",
    "df1 = df1.drop(df1[(df1.q >20000) & (df1.k < 10)].index) # 1 record deleted"
   ]
  },
  {
   "cell_type": "code",
   "execution_count": 37,
   "metadata": {},
   "outputs": [],
   "source": [
    "#unrelated columns\n",
    "## delete the following street-related cols which are redundant to iu_ac:\n",
    "df2 = df1.copy()\n",
    "df2 = df2.drop(columns=['libelle','iu_nd_amont', 'libelle_nd_amont', 'iu_nd_aval', 'libelle_nd_aval', 'etat_trafic', 'dessin'])"
   ]
  },
  {
   "cell_type": "code",
   "execution_count": null,
   "metadata": {},
   "outputs": [],
   "source": [
    "#df2.to_csv(\"all_cleaned_4col\")\n",
    "#df2 = pd.read_csv(\"all_cleaned_4col\",index_col = [0])"
   ]
  },
  {
   "cell_type": "code",
   "execution_count": 8,
   "metadata": {},
   "outputs": [
    {
     "data": {
      "text/html": [
       "<div>\n",
       "<style scoped>\n",
       "    .dataframe tbody tr th:only-of-type {\n",
       "        vertical-align: middle;\n",
       "    }\n",
       "\n",
       "    .dataframe tbody tr th {\n",
       "        vertical-align: top;\n",
       "    }\n",
       "\n",
       "    .dataframe thead th {\n",
       "        text-align: right;\n",
       "    }\n",
       "</style>\n",
       "<table border=\"1\" class=\"dataframe\">\n",
       "  <thead>\n",
       "    <tr style=\"text-align: right;\">\n",
       "      <th></th>\n",
       "      <th>iu_ac</th>\n",
       "      <th>t_1h</th>\n",
       "      <th>q</th>\n",
       "      <th>k</th>\n",
       "      <th>date</th>\n",
       "      <th>year</th>\n",
       "      <th>month</th>\n",
       "      <th>day</th>\n",
       "      <th>weekday</th>\n",
       "      <th>time</th>\n",
       "      <th>holiday</th>\n",
       "    </tr>\n",
       "  </thead>\n",
       "  <tbody>\n",
       "    <tr>\n",
       "      <td>0</td>\n",
       "      <td>4618</td>\n",
       "      <td>2019-06-12 03:00:00</td>\n",
       "      <td>695.0</td>\n",
       "      <td>2.06056</td>\n",
       "      <td>2019-06-12</td>\n",
       "      <td>2019</td>\n",
       "      <td>6</td>\n",
       "      <td>12</td>\n",
       "      <td>3</td>\n",
       "      <td>3</td>\n",
       "      <td>0</td>\n",
       "    </tr>\n",
       "    <tr>\n",
       "      <td>1</td>\n",
       "      <td>1307</td>\n",
       "      <td>2019-01-30 04:00:00</td>\n",
       "      <td>140.0</td>\n",
       "      <td>1.38111</td>\n",
       "      <td>2019-01-30</td>\n",
       "      <td>2019</td>\n",
       "      <td>1</td>\n",
       "      <td>30</td>\n",
       "      <td>3</td>\n",
       "      <td>4</td>\n",
       "      <td>0</td>\n",
       "    </tr>\n",
       "    <tr>\n",
       "      <td>2</td>\n",
       "      <td>4618</td>\n",
       "      <td>2019-06-12 11:00:00</td>\n",
       "      <td>1141.0</td>\n",
       "      <td>3.64889</td>\n",
       "      <td>2019-06-12</td>\n",
       "      <td>2019</td>\n",
       "      <td>6</td>\n",
       "      <td>12</td>\n",
       "      <td>3</td>\n",
       "      <td>11</td>\n",
       "      <td>0</td>\n",
       "    </tr>\n",
       "    <tr>\n",
       "      <td>3</td>\n",
       "      <td>1307</td>\n",
       "      <td>2019-01-30 16:00:00</td>\n",
       "      <td>697.0</td>\n",
       "      <td>5.97611</td>\n",
       "      <td>2019-01-30</td>\n",
       "      <td>2019</td>\n",
       "      <td>1</td>\n",
       "      <td>30</td>\n",
       "      <td>3</td>\n",
       "      <td>16</td>\n",
       "      <td>0</td>\n",
       "    </tr>\n",
       "    <tr>\n",
       "      <td>4</td>\n",
       "      <td>4618</td>\n",
       "      <td>2019-06-12 19:00:00</td>\n",
       "      <td>1068.0</td>\n",
       "      <td>3.26389</td>\n",
       "      <td>2019-06-12</td>\n",
       "      <td>2019</td>\n",
       "      <td>6</td>\n",
       "      <td>12</td>\n",
       "      <td>3</td>\n",
       "      <td>19</td>\n",
       "      <td>0</td>\n",
       "    </tr>\n",
       "  </tbody>\n",
       "</table>\n",
       "</div>"
      ],
      "text/plain": [
       "   iu_ac                 t_1h       q        k        date  year  month  day  \\\n",
       "0   4618  2019-06-12 03:00:00   695.0  2.06056  2019-06-12  2019      6   12   \n",
       "1   1307  2019-01-30 04:00:00   140.0  1.38111  2019-01-30  2019      1   30   \n",
       "2   4618  2019-06-12 11:00:00  1141.0  3.64889  2019-06-12  2019      6   12   \n",
       "3   1307  2019-01-30 16:00:00   697.0  5.97611  2019-01-30  2019      1   30   \n",
       "4   4618  2019-06-12 19:00:00  1068.0  3.26389  2019-06-12  2019      6   12   \n",
       "\n",
       "   weekday  time  holiday  \n",
       "0        3     3        0  \n",
       "1        3     4        0  \n",
       "2        3    11        0  \n",
       "3        3    16        0  \n",
       "4        3    19        0  "
      ]
     },
     "execution_count": 8,
     "metadata": {},
     "output_type": "execute_result"
    }
   ],
   "source": [
    "df2.head()"
   ]
  },
  {
   "cell_type": "code",
   "execution_count": 51,
   "metadata": {
    "scrolled": false
   },
   "outputs": [
    {
     "data": {
      "text/plain": [
       "Text(0, 0.5, 'count')"
      ]
     },
     "execution_count": 51,
     "metadata": {},
     "output_type": "execute_result"
    },
    {
     "data": {
      "image/png": "[encoded data removed]",
      "text/plain": [
       "<Figure size 1080x720 with 1 Axes>"
      ]
     },
     "metadata": {
      "needs_background": "light"
     },
     "output_type": "display_data"
    }
   ],
   "source": [
    "# histogram of q\n",
    "plt.figure(figsize=(15,10))\n",
    "df2.q.hist(bins=1000)\n",
    "plt.xlabel(\"q\")\n",
    "plt.ylabel(\"count\")"
   ]
  },
  {
   "cell_type": "markdown",
   "metadata": {},
   "source": [
    "##### the histogram of q demonstrates that, overall, the number of records decreases as q increases; when q is greater than 2000 approximately, #records does not change significantly, except a slight increasement around q = 6000 (perhaps it's the typical capacity of grand streets in Paris)."
   ]
  },
  {
   "cell_type": "markdown",
   "metadata": {},
   "source": [
    "## 2. determine polution threshold\n",
    "\n",
    "1. We make a simplifying assumtion that pollution level at a given moment is directly proportional to the number of cars moving.\n",
    "\n",
    "\n",
    "2. We make a histogram of q (number of cars per street segment and hour) and consider 4 pollution levels as follows : \n",
    "    - 0 - 25th percentile = blue\n",
    "    - 25th - 50th percentile = green\n",
    "    - 50th - 75th percentile = orange\n",
    "    - 75th - 100th percentile = red "
   ]
  },
  {
   "cell_type": "code",
   "execution_count": 10,
   "metadata": {},
   "outputs": [],
   "source": [
    "threshold = df2.q.quantile([0.25, 0.5, 0.75, 1]).tolist()"
   ]
  },
  {
   "cell_type": "code",
   "execution_count": 33,
   "metadata": {},
   "outputs": [
    {
     "name": "stdout",
     "output_type": "stream",
     "text": [
      "the thresholds of polution are:\n",
      "BLUE: 0 - 204.0\n",
      "GREEN: 204.0 - 437.0\n",
      "ORANGE: 437.0 - 851.0\n",
      "RED: 851.0 - 33272.0\n"
     ]
    }
   ],
   "source": [
    "print(\"the thresholds of polution are:\")\n",
    "print(\"BLUE: {} - {}\".format('0', threshold[0]))\n",
    "print(\"GREEN: {} - {}\".format(threshold[0], threshold[1]))\n",
    "print(\"ORANGE: {} - {}\".format(threshold[1], threshold[2]))\n",
    "print(\"RED: {} - {}\".format(threshold[2], threshold[3]))"
   ]
  },
  {
   "cell_type": "code",
   "execution_count": 130,
   "metadata": {},
   "outputs": [
    {
     "name": "stdout",
     "output_type": "stream",
     "text": [
      "in each quarter, there are about 4364505 records per category (slightly different due to pandas calc method)\n"
     ]
    }
   ],
   "source": [
    "print(\"in each quarter, there are about %d records per category (slightly different due to pandas calc method)\"%(len(df2)/4))"
   ]
  },
  {
   "cell_type": "markdown",
   "metadata": {},
   "source": [
    "## 3. current polution status (2019)"
   ]
  },
  {
   "cell_type": "code",
   "execution_count": 11,
   "metadata": {},
   "outputs": [],
   "source": [
    "# add a column indicating the polution status\n",
    "quantiles, bins = pd.qcut(df2['q'], 4, labels=[\"b\", \"g\", \"o\", \"r\"], retbins = True) #labels: b for blue, g for green, o for orange, r for red\n",
    "df2 = df2.assign(polution_2019 = quantiles.values)"
   ]
  },
  {
   "cell_type": "code",
   "execution_count": 128,
   "metadata": {},
   "outputs": [
    {
     "data": {
      "text/plain": [
       "4366097"
      ]
     },
     "execution_count": 128,
     "metadata": {},
     "output_type": "execute_result"
    }
   ],
   "source": [
    "len(df2[df2.polution_2019 == \"g\"])"
   ]
  },
  {
   "cell_type": "markdown",
   "metadata": {},
   "source": [
    "## 4. generate future traffic flow / polution status (2020)\n",
    "\n",
    "3. We assume that N = 1.06 the number of passengers per vehicle currently (number derived from article in Les Echos http://archives.lesechos.fr/archives/cercle/2016/01/28/cercle_147584.htm) . \n",
    "\n",
    "\n",
    "4. We consider a future scenario A where we succeed in motivating citizens to share vehicles and use less individually driven cars. Now, let N = 1.50.  (again, a number from the same article, projected for 2020.)\n",
    "\n",
    "\n",
    "5. We apply this information on q and compute the hypothetical value of q, say, q_A = 1.06 x q / 1.50 = 0.71 q, corresponding to scenario A. (Assuming nb. of total passengers remains the same.)\n"
   ]
  },
  {
   "cell_type": "code",
   "execution_count": 12,
   "metadata": {},
   "outputs": [],
   "source": [
    "#traffic flow in future\n",
    "df2['q_2020'] = round(0.71 * df2['q'])"
   ]
  },
  {
   "cell_type": "code",
   "execution_count": 13,
   "metadata": {},
   "outputs": [],
   "source": [
    "#polution level in future\n",
    "quantiles_2020 = pd.cut(df2['q_2020'], bins = bins, labels=[\"b\", \"g\", \"o\", \"r\"])\n",
    "df2 = df2.assign(polution_2020 = quantiles_2020.values)"
   ]
  },
  {
   "cell_type": "code",
   "execution_count": 14,
   "metadata": {},
   "outputs": [
    {
     "data": {
      "text/html": [
       "<div>\n",
       "<style scoped>\n",
       "    .dataframe tbody tr th:only-of-type {\n",
       "        vertical-align: middle;\n",
       "    }\n",
       "\n",
       "    .dataframe tbody tr th {\n",
       "        vertical-align: top;\n",
       "    }\n",
       "\n",
       "    .dataframe thead th {\n",
       "        text-align: right;\n",
       "    }\n",
       "</style>\n",
       "<table border=\"1\" class=\"dataframe\">\n",
       "  <thead>\n",
       "    <tr style=\"text-align: right;\">\n",
       "      <th></th>\n",
       "      <th>iu_ac</th>\n",
       "      <th>t_1h</th>\n",
       "      <th>q</th>\n",
       "      <th>k</th>\n",
       "      <th>date</th>\n",
       "      <th>year</th>\n",
       "      <th>month</th>\n",
       "      <th>day</th>\n",
       "      <th>weekday</th>\n",
       "      <th>time</th>\n",
       "      <th>holiday</th>\n",
       "      <th>polution_2019</th>\n",
       "      <th>q_2020</th>\n",
       "      <th>polution_2020</th>\n",
       "    </tr>\n",
       "  </thead>\n",
       "  <tbody>\n",
       "    <tr>\n",
       "      <td>0</td>\n",
       "      <td>4618</td>\n",
       "      <td>2019-06-12 03:00:00</td>\n",
       "      <td>695.0</td>\n",
       "      <td>2.06056</td>\n",
       "      <td>2019-06-12</td>\n",
       "      <td>2019</td>\n",
       "      <td>6</td>\n",
       "      <td>12</td>\n",
       "      <td>3</td>\n",
       "      <td>3</td>\n",
       "      <td>0</td>\n",
       "      <td>o</td>\n",
       "      <td>493.0</td>\n",
       "      <td>o</td>\n",
       "    </tr>\n",
       "    <tr>\n",
       "      <td>1</td>\n",
       "      <td>1307</td>\n",
       "      <td>2019-01-30 04:00:00</td>\n",
       "      <td>140.0</td>\n",
       "      <td>1.38111</td>\n",
       "      <td>2019-01-30</td>\n",
       "      <td>2019</td>\n",
       "      <td>1</td>\n",
       "      <td>30</td>\n",
       "      <td>3</td>\n",
       "      <td>4</td>\n",
       "      <td>0</td>\n",
       "      <td>b</td>\n",
       "      <td>99.0</td>\n",
       "      <td>b</td>\n",
       "    </tr>\n",
       "    <tr>\n",
       "      <td>2</td>\n",
       "      <td>4618</td>\n",
       "      <td>2019-06-12 11:00:00</td>\n",
       "      <td>1141.0</td>\n",
       "      <td>3.64889</td>\n",
       "      <td>2019-06-12</td>\n",
       "      <td>2019</td>\n",
       "      <td>6</td>\n",
       "      <td>12</td>\n",
       "      <td>3</td>\n",
       "      <td>11</td>\n",
       "      <td>0</td>\n",
       "      <td>r</td>\n",
       "      <td>810.0</td>\n",
       "      <td>o</td>\n",
       "    </tr>\n",
       "    <tr>\n",
       "      <td>3</td>\n",
       "      <td>1307</td>\n",
       "      <td>2019-01-30 16:00:00</td>\n",
       "      <td>697.0</td>\n",
       "      <td>5.97611</td>\n",
       "      <td>2019-01-30</td>\n",
       "      <td>2019</td>\n",
       "      <td>1</td>\n",
       "      <td>30</td>\n",
       "      <td>3</td>\n",
       "      <td>16</td>\n",
       "      <td>0</td>\n",
       "      <td>o</td>\n",
       "      <td>495.0</td>\n",
       "      <td>o</td>\n",
       "    </tr>\n",
       "    <tr>\n",
       "      <td>4</td>\n",
       "      <td>4618</td>\n",
       "      <td>2019-06-12 19:00:00</td>\n",
       "      <td>1068.0</td>\n",
       "      <td>3.26389</td>\n",
       "      <td>2019-06-12</td>\n",
       "      <td>2019</td>\n",
       "      <td>6</td>\n",
       "      <td>12</td>\n",
       "      <td>3</td>\n",
       "      <td>19</td>\n",
       "      <td>0</td>\n",
       "      <td>r</td>\n",
       "      <td>758.0</td>\n",
       "      <td>o</td>\n",
       "    </tr>\n",
       "  </tbody>\n",
       "</table>\n",
       "</div>"
      ],
      "text/plain": [
       "   iu_ac                 t_1h       q        k        date  year  month  day  \\\n",
       "0   4618  2019-06-12 03:00:00   695.0  2.06056  2019-06-12  2019      6   12   \n",
       "1   1307  2019-01-30 04:00:00   140.0  1.38111  2019-01-30  2019      1   30   \n",
       "2   4618  2019-06-12 11:00:00  1141.0  3.64889  2019-06-12  2019      6   12   \n",
       "3   1307  2019-01-30 16:00:00   697.0  5.97611  2019-01-30  2019      1   30   \n",
       "4   4618  2019-06-12 19:00:00  1068.0  3.26389  2019-06-12  2019      6   12   \n",
       "\n",
       "   weekday  time  holiday polution_2019  q_2020 polution_2020  \n",
       "0        3     3        0             o   493.0             o  \n",
       "1        3     4        0             b    99.0             b  \n",
       "2        3    11        0             r   810.0             o  \n",
       "3        3    16        0             o   495.0             o  \n",
       "4        3    19        0             r   758.0             o  "
      ]
     },
     "execution_count": 14,
     "metadata": {},
     "output_type": "execute_result"
    }
   ],
   "source": [
    "df2.head()"
   ]
  },
  {
   "cell_type": "code",
   "execution_count": 282,
   "metadata": {},
   "outputs": [
    {
     "data": {
      "image/png": "[encoded data removed]",
      "text/plain": [
       "<Figure size 432x288 with 1 Axes>"
      ]
     },
     "metadata": {
      "needs_background": "light"
     },
     "output_type": "display_data"
    }
   ],
   "source": [
    "ax = pd.value_counts(df2['polution_2020']).plot.bar(color = ['b','g','orange','r'])\n",
    "plt.title('pollution distribution in 2020-2021')\n",
    "plt.xlabel('polution levels')\n",
    "plt.ylabel('count (street * hour)')\n",
    "total = len(df2['polution_2020'])\n",
    "for p in ax.patches:\n",
    "    percentage = 100 * p.get_height()/total\n",
    "    if percentage > 0:\n",
    "        percentage = '{:.1f}%'.format(percentage)\n",
    "        x = p.get_x() + p.get_width()/7\n",
    "        y = p.get_y() + p.get_height()+100000\n",
    "        ax.annotate(percentage, (x, y))\n"
   ]
  },
  {
   "cell_type": "markdown",
   "metadata": {},
   "source": [
    "#### the #records decreases as the polution level increases in future"
   ]
  },
  {
   "cell_type": "markdown",
   "metadata": {},
   "source": [
    "## 5. hypothetical improvement in pollution level\n",
    "\n",
    "6. We apply the same thresholds as in step 2, and consider the hypothetical improvement in pollution level, i.e. % of street segment x hour which moved from red to orange, from red to green, from orange to green, etc. "
   ]
  },
  {
   "cell_type": "code",
   "execution_count": 15,
   "metadata": {},
   "outputs": [],
   "source": [
    "p19 = pd.DataFrame(df2['polution_2019'].value_counts().reset_index().values, columns = [\"polution\", \"count_2019\"])\n",
    "p20 = pd.DataFrame(df2['polution_2020'].value_counts().reset_index().values, columns = [\"polution\", \"count_2020\"])\n",
    "polution_count = pd.merge(p19, p20, on='polution')"
   ]
  },
  {
   "cell_type": "code",
   "execution_count": 140,
   "metadata": {},
   "outputs": [
    {
     "data": {
      "text/plain": [
       "Text(0, 0.5, 'count')"
      ]
     },
     "execution_count": 140,
     "metadata": {},
     "output_type": "execute_result"
    },
    {
     "data": {
      "image/png": "[encoded data removed]",
      "text/plain": [
       "<Figure size 720x360 with 1 Axes>"
      ]
     },
     "metadata": {
      "needs_background": "light"
     },
     "output_type": "display_data"
    }
   ],
   "source": [
    "#compare polution in 2018-2019 vs 2020-2021\n",
    "#plt.figure(figsize=(15,10))\n",
    "\n",
    "polution_count.set_index('polution').plot(kind = \"bar\", figsize=(10,5), grid=True)\n",
    "plt.xlabel(\"polution_level\")\n",
    "plt.ylabel(\"count\")"
   ]
  },
  {
   "cell_type": "markdown",
   "metadata": {},
   "source": [
    "#### in 2018-2019, each quarter has 436,4505 records; in 2020-2021, #records in blue and green will increase and orange and red will decrease based on our estimation"
   ]
  },
  {
   "cell_type": "code",
   "execution_count": 16,
   "metadata": {},
   "outputs": [],
   "source": [
    "#create a column indicating the polution change\n",
    "df2['polution_change'] = df2['polution_2019'].str.cat(df2['polution_2020'], sep = \"-\")"
   ]
  },
  {
   "cell_type": "code",
   "execution_count": 17,
   "metadata": {},
   "outputs": [
    {
     "name": "stdout",
     "output_type": "stream",
     "text": [
      "there are 7 types of change:\n",
      "               count\n",
      "change_type         \n",
      "b-b          4295380\n",
      "g-g          2758289\n",
      "r-r          2754181\n",
      "o-g          2355835\n",
      "o-o          2006302\n",
      "g-b          1607808\n",
      "r-o          1605630\n"
     ]
    }
   ],
   "source": [
    "change = pd.DataFrame(df2['polution_change'].value_counts().reset_index().values, columns = ['change_type', 'count']).set_index('change_type')\n",
    "print(\"there are {} types of change:\".format(len(change)))\n",
    "print(change)"
   ]
  },
  {
   "cell_type": "code",
   "execution_count": 18,
   "metadata": {},
   "outputs": [],
   "source": [
    "change = change.reindex(['b-b', 'g-g', 'o-o','r-r', 'r-o', 'o-g', 'g-b'])"
   ]
  },
  {
   "cell_type": "code",
   "execution_count": 187,
   "metadata": {},
   "outputs": [
    {
     "data": {
      "image/png": "[encoded data removed]",
      "text/plain": [
       "<Figure size 432x288 with 1 Axes>"
      ]
     },
     "metadata": {
      "needs_background": "light"
     },
     "output_type": "display_data"
    }
   ],
   "source": [
    "#plot polution change (street * hour)\n",
    "ax = change.plot(kind = \"bar\")\n",
    "plt.title('polution changes')\n",
    "plt.xlabel('types of polution change')\n",
    "\n",
    "total = len(df2['polution_change'])\n",
    "for p in ax.patches:\n",
    "        percentage = '{:.1f}%'.format(100 * p.get_height()/total)\n",
    "        x = p.get_x() + p.get_width()/10\n",
    "        y = p.get_y() + p.get_height() + 100000\n",
    "        ax.annotate(percentage, (x, y))\n",
    "\n",
    "plt.show()"
   ]
  },
  {
   "cell_type": "code",
   "execution_count": null,
   "metadata": {},
   "outputs": [],
   "source": [
    "change['2019'] = change.index.str.slice(0, 1)\n",
    "change = change.set_index('2019')"
   ]
  },
  {
   "cell_type": "code",
   "execution_count": 291,
   "metadata": {},
   "outputs": [
    {
     "data": {
      "image/png": "[encoded data removed]",
      "text/plain": [
       "<Figure size 1296x720 with 1 Axes>"
      ]
     },
     "metadata": {
      "needs_background": "light"
     },
     "output_type": "display_data"
    }
   ],
   "source": [
    "#df_plot = df2.groupby(['polution_2020','polution_2019']).size().reset_index().pivot(columns='polution_2020', index='polution_2019', values=0)\n",
    "\n",
    "ax = df_plot.plot(kind='bar', stacked=True, figsize = (18,10), color = ['b', 'g', 'orange', 'r'])\n",
    "ax.legend([\"blue_2020\", \"green_2020\", \"orange_2020\", \"red_2020\"],bbox_to_anchor=(1.2, 1),fontsize = 16)\n",
    "ax.set_ylabel('count',fontsize=16)\n",
    "ax.set_xlabel('polution_2019' , fontsize=16)\n",
    "\n",
    "plt.title('polution changes',fontsize=16)\n",
    "\n",
    "total = len(df2['polution_2019'])\n",
    "for p in ax.patches:\n",
    "        percentage = 100 * p.get_height()/total\n",
    "        if percentage > 0:\n",
    "            percentage = '{:.1f}%'.format(percentage)\n",
    "            x = p.get_x() + p.get_width()+0.01\n",
    "            y = p.get_y() + p.get_height()/2\n",
    "            ax.annotate(percentage, (x, y))\n",
    "\n",
    "plt.show()"
   ]
  },
  {
   "cell_type": "markdown",
   "metadata": {},
   "source": [
    "### Boulevard Haussmann "
   ]
  },
  {
   "cell_type": "code",
   "execution_count": 175,
   "metadata": {},
   "outputs": [
    {
     "data": {
      "text/plain": [
       "[1947, 4226, 6019, 1945, 4229, 5743, 1946, 4228, 6013, 6018, 4230]"
      ]
     },
     "execution_count": 175,
     "metadata": {},
     "output_type": "execute_result"
    }
   ],
   "source": [
    "haussmann_id = df[df['libelle'] == \"Bd_Haussmann\"].iu_ac.unique().tolist()\n",
    "haussmann_id"
   ]
  },
  {
   "cell_type": "code",
   "execution_count": 178,
   "metadata": {},
   "outputs": [
    {
     "data": {
      "text/html": [
       "<div>\n",
       "<style scoped>\n",
       "    .dataframe tbody tr th:only-of-type {\n",
       "        vertical-align: middle;\n",
       "    }\n",
       "\n",
       "    .dataframe tbody tr th {\n",
       "        vertical-align: top;\n",
       "    }\n",
       "\n",
       "    .dataframe thead th {\n",
       "        text-align: right;\n",
       "    }\n",
       "</style>\n",
       "<table border=\"1\" class=\"dataframe\">\n",
       "  <thead>\n",
       "    <tr style=\"text-align: right;\">\n",
       "      <th></th>\n",
       "      <th>iu_ac</th>\n",
       "      <th>t_1h</th>\n",
       "      <th>q</th>\n",
       "      <th>k</th>\n",
       "      <th>date</th>\n",
       "      <th>year</th>\n",
       "      <th>month</th>\n",
       "      <th>day</th>\n",
       "      <th>weekday</th>\n",
       "      <th>time</th>\n",
       "      <th>holiday</th>\n",
       "      <th>polution_2019</th>\n",
       "      <th>q_2020</th>\n",
       "      <th>polution_2020</th>\n",
       "      <th>polution_change</th>\n",
       "    </tr>\n",
       "  </thead>\n",
       "  <tbody>\n",
       "    <tr>\n",
       "      <td>639</td>\n",
       "      <td>1947</td>\n",
       "      <td>2019-01-29 14:00:00</td>\n",
       "      <td>2472.0</td>\n",
       "      <td>1.03222</td>\n",
       "      <td>2019-01-29</td>\n",
       "      <td>2019</td>\n",
       "      <td>1</td>\n",
       "      <td>29</td>\n",
       "      <td>2</td>\n",
       "      <td>14</td>\n",
       "      <td>0</td>\n",
       "      <td>r</td>\n",
       "      <td>1755.0</td>\n",
       "      <td>r</td>\n",
       "      <td>r-r</td>\n",
       "    </tr>\n",
       "    <tr>\n",
       "      <td>641</td>\n",
       "      <td>1947</td>\n",
       "      <td>2019-01-30 06:00:00</td>\n",
       "      <td>1164.0</td>\n",
       "      <td>0.04278</td>\n",
       "      <td>2019-01-30</td>\n",
       "      <td>2019</td>\n",
       "      <td>1</td>\n",
       "      <td>30</td>\n",
       "      <td>3</td>\n",
       "      <td>6</td>\n",
       "      <td>0</td>\n",
       "      <td>r</td>\n",
       "      <td>826.0</td>\n",
       "      <td>o</td>\n",
       "      <td>r-o</td>\n",
       "    </tr>\n",
       "    <tr>\n",
       "      <td>643</td>\n",
       "      <td>1947</td>\n",
       "      <td>2019-01-30 08:00:00</td>\n",
       "      <td>1089.0</td>\n",
       "      <td>0.19722</td>\n",
       "      <td>2019-01-30</td>\n",
       "      <td>2019</td>\n",
       "      <td>1</td>\n",
       "      <td>30</td>\n",
       "      <td>3</td>\n",
       "      <td>8</td>\n",
       "      <td>0</td>\n",
       "      <td>r</td>\n",
       "      <td>773.0</td>\n",
       "      <td>o</td>\n",
       "      <td>r-o</td>\n",
       "    </tr>\n",
       "    <tr>\n",
       "      <td>1558</td>\n",
       "      <td>4226</td>\n",
       "      <td>2019-06-15 20:00:00</td>\n",
       "      <td>691.0</td>\n",
       "      <td>4.63000</td>\n",
       "      <td>2019-06-15</td>\n",
       "      <td>2019</td>\n",
       "      <td>6</td>\n",
       "      <td>15</td>\n",
       "      <td>6</td>\n",
       "      <td>20</td>\n",
       "      <td>0</td>\n",
       "      <td>o</td>\n",
       "      <td>491.0</td>\n",
       "      <td>o</td>\n",
       "      <td>o-o</td>\n",
       "    </tr>\n",
       "    <tr>\n",
       "      <td>1560</td>\n",
       "      <td>4226</td>\n",
       "      <td>2019-06-18 17:00:00</td>\n",
       "      <td>694.0</td>\n",
       "      <td>8.41945</td>\n",
       "      <td>2019-06-18</td>\n",
       "      <td>2019</td>\n",
       "      <td>6</td>\n",
       "      <td>18</td>\n",
       "      <td>2</td>\n",
       "      <td>17</td>\n",
       "      <td>0</td>\n",
       "      <td>o</td>\n",
       "      <td>493.0</td>\n",
       "      <td>o</td>\n",
       "      <td>o-o</td>\n",
       "    </tr>\n",
       "  </tbody>\n",
       "</table>\n",
       "</div>"
      ],
      "text/plain": [
       "      iu_ac                 t_1h       q        k        date  year  month  \\\n",
       "639    1947  2019-01-29 14:00:00  2472.0  1.03222  2019-01-29  2019      1   \n",
       "641    1947  2019-01-30 06:00:00  1164.0  0.04278  2019-01-30  2019      1   \n",
       "643    1947  2019-01-30 08:00:00  1089.0  0.19722  2019-01-30  2019      1   \n",
       "1558   4226  2019-06-15 20:00:00   691.0  4.63000  2019-06-15  2019      6   \n",
       "1560   4226  2019-06-18 17:00:00   694.0  8.41945  2019-06-18  2019      6   \n",
       "\n",
       "      day  weekday  time  holiday polution_2019  q_2020 polution_2020  \\\n",
       "639    29        2    14        0             r  1755.0             r   \n",
       "641    30        3     6        0             r   826.0             o   \n",
       "643    30        3     8        0             r   773.0             o   \n",
       "1558   15        6    20        0             o   491.0             o   \n",
       "1560   18        2    17        0             o   493.0             o   \n",
       "\n",
       "     polution_change  \n",
       "639              r-r  \n",
       "641              r-o  \n",
       "643              r-o  \n",
       "1558             o-o  \n",
       "1560             o-o  "
      ]
     },
     "execution_count": 178,
     "metadata": {},
     "output_type": "execute_result"
    }
   ],
   "source": [
    "haussmann = df2[df2.iu_ac.isin(haussmann_id)]\n",
    "haussmann.head()"
   ]
  },
  {
   "cell_type": "code",
   "execution_count": 210,
   "metadata": {},
   "outputs": [
    {
     "data": {
      "image/png": "[encoded data removed]",
      "text/plain": [
       "<Figure size 720x576 with 1 Axes>"
      ]
     },
     "metadata": {
      "needs_background": "light"
     },
     "output_type": "display_data"
    }
   ],
   "source": [
    "#polution distribution on time of a day\n",
    "haussmann_dplot = haussmann.groupby(['polution_2019','time']).size().reset_index().pivot(columns='polution_2019', index='time', values=0)\n",
    "\n",
    "ax = haussmann_dplot.plot(kind='bar', stacked=True, figsize = (10,8), grid = True, color = ['b', 'g', 'orange', 'r'])\n",
    "ax.legend(bbox_to_anchor=(1.2, 1))\n",
    "ax.set_ylabel('count')\n",
    "\n",
    "plt.title('polution distribution on time of a day')\n",
    "\n",
    "\n",
    "loc = plticker.MultipleLocator(base=1.0) \n",
    "ax.xaxis.set_major_locator(loc)\n",
    "plt.show()"
   ]
  },
  {
   "cell_type": "code",
   "execution_count": 181,
   "metadata": {},
   "outputs": [
    {
     "data": {
      "text/plain": [
       "Text(0.5, 1.0, 'polution changes of Bd.Haussmann')"
      ]
     },
     "execution_count": 181,
     "metadata": {},
     "output_type": "execute_result"
    },
    {
     "data": {
      "image/png": "[encoded data removed]",
      "text/plain": [
       "<Figure size 720x360 with 1 Axes>"
      ]
     },
     "metadata": {
      "needs_background": "light"
     },
     "output_type": "display_data"
    }
   ],
   "source": [
    "h19 = pd.DataFrame(haussmann['polution_2019'].value_counts().reset_index().values, columns = [\"polution\", \"count_2019\"])\n",
    "h20 = pd.DataFrame(haussmann['polution_2020'].value_counts().reset_index().values, columns = [\"polution\", \"count_2020\"])\n",
    "polution_count_h = pd.merge(h19, h20, on='polution')\n",
    "\n",
    "#compare polution in 2018-2019 vs 2020-2021\n",
    "\n",
    "polution_count_h.set_index('polution').plot(kind = \"bar\", figsize=(10,5), grid=True)\n",
    "plt.xlabel(\"polution_level\")\n",
    "plt.ylabel(\"count\")\n",
    "plt.title('polution changes of Bd.Haussmann')"
   ]
  },
  {
   "cell_type": "code",
   "execution_count": 293,
   "metadata": {},
   "outputs": [
    {
     "data": {
      "image/png": "[encoded data removed]",
      "text/plain": [
       "<Figure size 1080x720 with 1 Axes>"
      ]
     },
     "metadata": {
      "needs_background": "light"
     },
     "output_type": "display_data"
    }
   ],
   "source": [
    "haussmann_plot = haussmann.groupby(['polution_2020','polution_2019']).size().reset_index().pivot(columns='polution_2020', index='polution_2019', values=0)\n",
    "\n",
    "ax = haussmann_plot.plot(kind='bar', stacked=True, figsize = (15,10), color = ['b', 'g', 'orange', 'r'])\n",
    "ax.legend([\"blue_2020\", \"green_2020\", \"orange_2020\", \"red_2020\"],bbox_to_anchor=(1.2, 1))\n",
    "ax.set_ylabel('count',fontsize = 20)\n",
    "ax.set_xlabel('polution 2019',fontsize = 20)\n",
    "\n",
    "plt.title('polution changes of Bd.Haussmann')\n",
    "\n",
    "total = len(haussmann['polution_2019'])\n",
    "for p in ax.patches:\n",
    "        percentage = 100 * p.get_height()/total\n",
    "        if percentage > 0:\n",
    "            percentage = '{:.1f}%'.format(percentage)\n",
    "            x = p.get_x() + p.get_width()+0.01\n",
    "            y = p.get_y() + p.get_height()/2\n",
    "            ax.annotate(percentage, (x, y))\n",
    "\n",
    "plt.show()"
   ]
  },
  {
   "cell_type": "markdown",
   "metadata": {},
   "source": [
    "### compare with Champs-Elysees"
   ]
  },
  {
   "cell_type": "code",
   "execution_count": 194,
   "metadata": {},
   "outputs": [],
   "source": [
    "champselysees_id = df[df['libelle'] == \"Av_Champs_Elysees\"].iu_ac.unique().tolist()\n",
    "champselysees = df2[df2.iu_ac.isin(champselysees_id)]"
   ]
  },
  {
   "cell_type": "code",
   "execution_count": 212,
   "metadata": {},
   "outputs": [
    {
     "data": {
      "image/png": "[encoded data removed]",
      "text/plain": [
       "<Figure size 720x576 with 1 Axes>"
      ]
     },
     "metadata": {
      "needs_background": "light"
     },
     "output_type": "display_data"
    }
   ],
   "source": [
    "#polution distribution on time of a day\n",
    "champselysees_dplot = champselysees.groupby(['polution_2019','time']).size().reset_index().pivot(columns='polution_2019', index='time', values=0)\n",
    "\n",
    "ax = champselysees_dplot.plot(kind='bar', stacked=True, figsize = (10,8), grid = True, color = ['b', 'g', 'orange', 'r'])\n",
    "ax.legend(bbox_to_anchor=(1.2, 1))\n",
    "ax.set_ylabel('count')\n",
    "\n",
    "plt.title('pollution distribution on time of a day of ChampsElysees')\n",
    "\n",
    "\n",
    "loc = plticker.MultipleLocator(base=1.0) \n",
    "ax.xaxis.set_major_locator(loc)\n",
    "plt.show()"
   ]
  },
  {
   "cell_type": "code",
   "execution_count": 268,
   "metadata": {},
   "outputs": [
    {
     "data": {
      "text/plain": [
       "Text(0.5, 1.0, 'pollution changes of ChampsElysees')"
      ]
     },
     "execution_count": 268,
     "metadata": {},
     "output_type": "execute_result"
    },
    {
     "data": {
      "image/png": "[encoded data removed]",
      "text/plain": [
       "<Figure size 720x360 with 1 Axes>"
      ]
     },
     "metadata": {
      "needs_background": "light"
     },
     "output_type": "display_data"
    }
   ],
   "source": [
    "c19 = pd.DataFrame(champselysees['polution_2019'].value_counts().reset_index().values, columns = [\"polution\", \"count_2019\"])\n",
    "c20 = pd.DataFrame(champselysees['polution_2020'].value_counts().reset_index().values, columns = [\"polution\", \"count_2020\"])\n",
    "polution_count_c = pd.merge(c19, c20, on='polution')\n",
    "\n",
    "#compare polution in 2018-2019 vs 2020-2021\n",
    "\n",
    "polution_count_c.set_index('polution').plot(kind = \"bar\", figsize=(10,5), grid=True)\n",
    "plt.xlabel(\"polution_level\")\n",
    "plt.ylabel(\"count\")\n",
    "plt.title('pollution changes of ChampsElysees')"
   ]
  },
  {
   "cell_type": "code",
   "execution_count": 269,
   "metadata": {},
   "outputs": [
    {
     "data": {
      "image/png": "[encoded data removed]",
      "text/plain": [
       "<Figure size 720x576 with 1 Axes>"
      ]
     },
     "metadata": {
      "needs_background": "light"
     },
     "output_type": "display_data"
    }
   ],
   "source": [
    "champselysees_plot = champselysees.groupby(['polution_2020','polution_2019']).size().reset_index().pivot(columns='polution_2020', index='polution_2019', values=0)\n",
    "\n",
    "ax = champselysees_plot.plot(kind='bar', stacked=True, figsize = (10,8), color = ['b', 'g', 'orange', 'r'])\n",
    "ax.legend([\"blue_2020\", \"green_2020\", \"orange_2020\", \"red_2020\"],bbox_to_anchor=(1.2, 1))\n",
    "ax.set_ylabel('count')\n",
    "\n",
    "plt.title('pollution changes of ChampsElysees')\n",
    "\n",
    "total = len(champselysees['polution_2019'])\n",
    "for p in ax.patches:\n",
    "        percentage = 100 * p.get_height()/total\n",
    "        if percentage > 0:\n",
    "            percentage = '{:.1f}%'.format(percentage)\n",
    "            x = p.get_x() + p.get_width()+0.01\n",
    "            y = p.get_y() + p.get_height()/2\n",
    "            ax.annotate(percentage, (x, y))\n",
    "\n",
    "plt.show()"
   ]
  },
  {
   "cell_type": "markdown",
   "metadata": {},
   "source": [
    "### Top 10 streets with most improvement"
   ]
  },
  {
   "cell_type": "code",
   "execution_count": null,
   "metadata": {},
   "outputs": [],
   "source": [
    "#Top 10 streets with most improvement\n",
    "df2['change'][df2.polution_2019 != df2.polution_2020] = 1"
   ]
  },
  {
   "cell_type": "code",
   "execution_count": 257,
   "metadata": {},
   "outputs": [],
   "source": [
    "top = pd.DataFrame(df2.groupby(['change','iu_ac']).size(), columns = ['count'])"
   ]
  },
  {
   "cell_type": "code",
   "execution_count": 267,
   "metadata": {},
   "outputs": [
    {
     "data": {
      "text/html": [
       "<div>\n",
       "<style scoped>\n",
       "    .dataframe tbody tr th:only-of-type {\n",
       "        vertical-align: middle;\n",
       "    }\n",
       "\n",
       "    .dataframe tbody tr th {\n",
       "        vertical-align: top;\n",
       "    }\n",
       "\n",
       "    .dataframe thead th {\n",
       "        text-align: right;\n",
       "    }\n",
       "</style>\n",
       "<table border=\"1\" class=\"dataframe\">\n",
       "  <thead>\n",
       "    <tr style=\"text-align: right;\">\n",
       "      <th></th>\n",
       "      <th></th>\n",
       "      <th>count</th>\n",
       "    </tr>\n",
       "    <tr>\n",
       "      <th>change</th>\n",
       "      <th>iu_ac</th>\n",
       "      <th></th>\n",
       "    </tr>\n",
       "  </thead>\n",
       "  <tbody>\n",
       "    <tr>\n",
       "      <td rowspan=\"10\" valign=\"top\">1</td>\n",
       "      <td>6557</td>\n",
       "      <td>7838</td>\n",
       "    </tr>\n",
       "    <tr>\n",
       "      <td>1558</td>\n",
       "      <td>7819</td>\n",
       "    </tr>\n",
       "    <tr>\n",
       "      <td>1640</td>\n",
       "      <td>7748</td>\n",
       "    </tr>\n",
       "    <tr>\n",
       "      <td>1642</td>\n",
       "      <td>7731</td>\n",
       "    </tr>\n",
       "    <tr>\n",
       "      <td>1644</td>\n",
       "      <td>7723</td>\n",
       "    </tr>\n",
       "    <tr>\n",
       "      <td>1638</td>\n",
       "      <td>7634</td>\n",
       "    </tr>\n",
       "    <tr>\n",
       "      <td>1646</td>\n",
       "      <td>7392</td>\n",
       "    </tr>\n",
       "    <tr>\n",
       "      <td>1679</td>\n",
       "      <td>7317</td>\n",
       "    </tr>\n",
       "    <tr>\n",
       "      <td>820</td>\n",
       "      <td>7124</td>\n",
       "    </tr>\n",
       "    <tr>\n",
       "      <td>1562</td>\n",
       "      <td>7071</td>\n",
       "    </tr>\n",
       "  </tbody>\n",
       "</table>\n",
       "</div>"
      ],
      "text/plain": [
       "              count\n",
       "change iu_ac       \n",
       "1      6557    7838\n",
       "       1558    7819\n",
       "       1640    7748\n",
       "       1642    7731\n",
       "       1644    7723\n",
       "       1638    7634\n",
       "       1646    7392\n",
       "       1679    7317\n",
       "       820     7124\n",
       "       1562    7071"
      ]
     },
     "execution_count": 267,
     "metadata": {},
     "output_type": "execute_result"
    }
   ],
   "source": [
    "#we assume each street has approximately same number of records for now, then we look for the streets with the most changes\n",
    "top.sort_values(['change','count'],ascending=False).head(10)"
   ]
  }
 ],
 "metadata": {
  "kernelspec": {
   "display_name": "Python 3",
   "language": "python",
   "name": "python3"
  },
  "language_info": {
   "codemirror_mode": {
    "name": "ipython",
    "version": 3
   },
   "file_extension": ".py",
   "mimetype": "text/x-python",
   "name": "python",
   "nbconvert_exporter": "python",
   "pygments_lexer": "ipython3",
   "version": "3.6.5"
  }
 },
 "nbformat": 4,
 "nbformat_minor": 2
}
